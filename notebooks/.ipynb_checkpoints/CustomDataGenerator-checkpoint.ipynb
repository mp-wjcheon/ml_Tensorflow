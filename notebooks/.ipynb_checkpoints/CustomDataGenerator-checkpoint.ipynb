{
 "cells": [
  {
   "cell_type": "code",
   "execution_count": 1,
   "metadata": {
    "collapsed": false,
    "scrolled": true
   },
   "outputs": [
    {
     "ename": "ImportError",
     "evalue": "cannot import name 'rgb2gray'",
     "output_type": "error",
     "traceback": [
      "\u001b[0;31m---------------------------------------------------------------------------\u001b[0m",
      "\u001b[0;31mImportError\u001b[0m                               Traceback (most recent call last)",
      "\u001b[0;32m<ipython-input-1-c43e7c94c035>\u001b[0m in \u001b[0;36m<module>\u001b[0;34m()\u001b[0m\n\u001b[1;32m      1\u001b[0m \u001b[0;32mimport\u001b[0m \u001b[0mnumpy\u001b[0m \u001b[0;32mas\u001b[0m \u001b[0mnp\u001b[0m\u001b[0;34m\u001b[0m\u001b[0m\n\u001b[1;32m      2\u001b[0m \u001b[0;32mimport\u001b[0m \u001b[0mos\u001b[0m\u001b[0;34m\u001b[0m\u001b[0m\n\u001b[0;32m----> 3\u001b[0;31m \u001b[0;32mfrom\u001b[0m \u001b[0mscipy\u001b[0m\u001b[0;34m.\u001b[0m\u001b[0mmisc\u001b[0m \u001b[0;32mimport\u001b[0m \u001b[0mimread\u001b[0m\u001b[0;34m,\u001b[0m \u001b[0mimresize\u001b[0m\u001b[0;34m,\u001b[0m \u001b[0mrgb2gray\u001b[0m\u001b[0;34m\u001b[0m\u001b[0m\n\u001b[0m\u001b[1;32m      4\u001b[0m \u001b[0;32mimport\u001b[0m \u001b[0mmatplotlib\u001b[0m\u001b[0;34m.\u001b[0m\u001b[0mpyplot\u001b[0m \u001b[0;32mas\u001b[0m \u001b[0mplt\u001b[0m\u001b[0;34m\u001b[0m\u001b[0m\n\u001b[1;32m      5\u001b[0m \u001b[0mget_ipython\u001b[0m\u001b[0;34m(\u001b[0m\u001b[0;34m)\u001b[0m\u001b[0;34m.\u001b[0m\u001b[0mmagic\u001b[0m\u001b[0;34m(\u001b[0m\u001b[0;34m'matplotlib inline'\u001b[0m\u001b[0;34m)\u001b[0m\u001b[0;34m\u001b[0m\u001b[0m\n",
      "\u001b[0;31mImportError\u001b[0m: cannot import name 'rgb2gray'"
     ]
    }
   ],
   "source": [
    "import numpy as np\n",
    "import os\n",
    "from scipy.misc import imread, imresize\n",
    "import matplotlib.pyplot as plt\n",
    "%matplotlib inline  \n",
    "import tensorflow as tf\n",
    "print (\"PACKAGES LOADED\")"
   ]
  },
  {
   "cell_type": "code",
   "execution_count": null,
   "metadata": {
    "collapsed": true
   },
   "outputs": [],
   "source": [
    "def rgb2gray(rgb):\n",
    "    return np.dot(rgb[...,:3], [0.299, 0.587, 0.114])"
   ]
  },
  {
   "cell_type": "code",
   "execution_count": null,
   "metadata": {
    "collapsed": false
   },
   "outputs": [],
   "source": [
    "# CURRENT FOLDER\n",
    "cwd = os.getcwd() \n",
    "# RELATIVE PATHS OF FOLDERS CONSTAINING IMAGES\n",
    "\n",
    "paths = { \"../../DATASET/EYE/NL_Augmentation_resize_1000\"\n",
    "        , \"../../DATASET/EYE/GS_Augmentation_resize_1000\"\n",
    "        , \"../../DATASET/EYE/Ret_Augmentation_resize_1000\"\n",
    "        ,\"../../DATASET/EYE/Cat_Augmentation_resize\"}\n",
    "'''\n",
    "# (0=Angry, 1=Disgust, 2=Fear, 3=Happy, 4=Sad, 5=Surprise, 6=Neutral)\n",
    "paths = { \"../img_dataset/face_emotion/0\"\n",
    "        , \"../img_dataset/face_emotion/1\"\n",
    "        , \"../img_dataset/face_emotion/2\"\n",
    "        , \"../img_dataset/face_emotion/3\"\n",
    "        , \"../img_dataset/face_emotion/4\"\n",
    "        , \"../img_dataset/face_emotion/5\"\n",
    "        , \"../img_dataset/face_emotion/6\"\n",
    "        }\n",
    "'''\n"
   ]
  },
  {
   "cell_type": "code",
   "execution_count": null,
   "metadata": {
    "collapsed": false
   },
   "outputs": [],
   "source": [
    "imgsize    = [30, 30, 1];\n",
    "nclass     = len(paths)\n",
    "valid_exts = [\".jpg\",\".gif\",\".png\",\".tga\", \".jpeg\"]\n",
    "imgcnt     = 0 \n",
    "rawimg     = []\n",
    "rszimg     = []\n",
    "for i, relpath in zip(range(nclass), paths):\n",
    "    path = cwd + \"/\" + relpath\n",
    "    flist = os.listdir(path)\n",
    "    temp = 0\n",
    "    print (\"%d-class can have upto %d images\" % (i, len(flist)))\n",
    "    for f in flist:\n",
    "        if os.path.splitext(f)[1].lower() not in valid_exts:\n",
    "            continue\n",
    "        fullpath   = os.path.join(path, f)\n",
    "        currimg    = imread(fullpath)\n",
    "        imgsmall   = imresize(currimg, [imgsize[0], imgsize[1]])/255.\n",
    "        if imgsize[2] == 1:\n",
    "            imgsmall = rgb2gray(imgsmall)        \n",
    "        imgvec     = np.reshape(imgsmall, (1, -1))\n",
    "        curr_label = np.eye(nclass, nclass)[i:i+1, :]\n",
    "        if imgcnt is 0:\n",
    "            totalimg   = imgvec\n",
    "            totallabel = curr_label\n",
    "        else:\n",
    "            totalimg   = np.concatenate((totalimg, imgvec), axis=0)\n",
    "            totallabel = np.concatenate((totallabel, curr_label), axis=0)\n",
    "        rawimg.append(currimg)\n",
    "        rszimg.append(imgsmall)        \n",
    "        imgcnt = imgcnt + 1\n",
    "        temp = temp + 1\n",
    "        if temp > 1000:\n",
    "            break\n",
    "    print (\"%d-class has %d images\" % (i, temp))\n",
    "print (\"TOTAL %d IMAGES LOADED.\" % (imgcnt))\n",
    "\n",
    "for i in np.random.randint(imgcnt, size=5):\n",
    "    plt.subplot(1, 2, 1)\n",
    "    plt.imshow(rawimg[i], cmap='gray')\n",
    "    plt.title(\"ORIGINAL IMAGE\")\n",
    "    plt.subplot(1, 2, 2)\n",
    "    plt.imshow(rszimg[i], cmap='gray')\n",
    "    plt.title(\"RESIZED IMAGE\")\n",
    "    plt.show()\n",
    "\n",
    "randidx    = np.random.randint(imgcnt, size=imgcnt)\n",
    "trainidx   = randidx[0:int(4*imgcnt/5)]\n",
    "testidx    = randidx[int(4*imgcnt/5):imgcnt]\n",
    "trainimg   = totalimg[trainidx, :]\n",
    "trainlabel = totallabel[trainidx, :]\n",
    "testimg    = totalimg[testidx, :]\n",
    "testlabel  = totallabel[testidx, :]\n",
    "\n",
    "print(\"%d TRAIN AND %d TEST IMAGES\" % (len(trainidx), len(testidx)))\n",
    "print(\"EACH IAMGE IS (%d, %d, ) = %d-DIMENSINOAL VECTOR\" \n",
    "      % (imgsize[0], imgsize[1], trainimg.shape[1]))\n",
    "\n",
    "savepath = cwd + \"/data_retina_30.npz\"\n",
    "np.savez(savepath, trainimg=trainimg, trainlabel=trainlabel\n",
    "         , testimg=testimg, testlabel=testlabel, imgsize=imgsize)\n",
    "print (\"DATA SAVED TO %s\" % (savepath))\n",
    "\n",
    "randidx = np.random.randint(imgcnt, size = 30)\n",
    "for i in randidx: \n",
    "    currlabel = np.argmax(totallabel[i, :]) \n",
    "    if imgsize[2] == 1:\n",
    "        currimg = np.reshape(totalimg[i, :], (imgsize[0], imgsize[1]))\n",
    "        plt.imshow(currimg, cmap='gray')\n",
    "    else:\n",
    "        currimg = np.reshape(totalimg[i, :], (imgsize[0], imgsize[1], -1))\n",
    "        plt.imshow(currimg)\n",
    "    title_string = \"[%d] %d-class\" % (i, currlabel)\n",
    "    plt.title(title_string) \n",
    "    plt.show() \n"
   ]
  },
  {
   "cell_type": "code",
   "execution_count": null,
   "metadata": {
    "collapsed": false
   },
   "outputs": [],
   "source": [
    "def print_np(x):\n",
    "    print (\"Type is %s\" % (type(x)))\n",
    "    print(\"Shape is %s\" % (x.shape,))\n",
    "    print(\"Value are: \\n%s\"% (x))"
   ]
  },
  {
   "cell_type": "code",
   "execution_count": null,
   "metadata": {
    "collapsed": false
   },
   "outputs": [],
   "source": [
    "print_np(trainimg)"
   ]
  },
  {
   "cell_type": "code",
   "execution_count": null,
   "metadata": {
    "collapsed": false
   },
   "outputs": [],
   "source": [
    "print_np(trainlabel)"
   ]
  },
  {
   "cell_type": "code",
   "execution_count": null,
   "metadata": {
    "collapsed": false
   },
   "outputs": [],
   "source": [
    "print_np(testimg)"
   ]
  },
  {
   "cell_type": "code",
   "execution_count": null,
   "metadata": {
    "collapsed": false
   },
   "outputs": [],
   "source": [
    "print_np(testlabel)"
   ]
  },
  {
   "cell_type": "code",
   "execution_count": null,
   "metadata": {
    "collapsed": false
   },
   "outputs": [],
   "source": [
    "print_np(imgsize)"
   ]
  },
  {
   "cell_type": "code",
   "execution_count": null,
   "metadata": {
    "collapsed": true
   },
   "outputs": [],
   "source": []
  }
 ],
 "metadata": {
  "kernelspec": {
   "display_name": "Python 3",
   "language": "python",
   "name": "python3"
  },
  "language_info": {
   "codemirror_mode": {
    "name": "ipython",
    "version": 3
   },
   "file_extension": ".py",
   "mimetype": "text/x-python",
   "name": "python",
   "nbconvert_exporter": "python",
   "pygments_lexer": "ipython3",
   "version": "3.4.3"
  }
 },
 "nbformat": 4,
 "nbformat_minor": 1
}
